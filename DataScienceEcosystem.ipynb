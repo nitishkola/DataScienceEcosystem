{
 "cells": [
  {
   "cell_type": "markdown",
   "id": "0f4211b2-affc-4674-8eda-65375d7041b2",
   "metadata": {},
   "source": [
    "# Data Science Tools and Ecosystem"
   ]
  },
  {
   "cell_type": "markdown",
   "id": "d1768aae-1cd9-47c5-93be-d7a71ab19306",
   "metadata": {},
   "source": [
    "In this notebook, Data Science Tools and Ecosystem are summarized"
   ]
  },
  {
   "cell_type": "markdown",
   "id": "349f7137-68cb-44e5-b255-996acaf1c549",
   "metadata": {},
   "source": [
    "Some of the popular languages that Data Scientists use are:\n",
    "1. Python\n",
    "2. R\n",
    "3. SQL\n",
    "4. C++\n",
    "5. Java, etc..;"
   ]
  },
  {
   "cell_type": "markdown",
   "id": "4616b9f1-4474-4837-922b-2dfdb2d32c29",
   "metadata": {},
   "source": [
    "Some of the commonly used libraries used by data scientists include:\n",
    "1. TensorFlow\n",
    "2. NumPy\n",
    "3. SciPy\n",
    "4. Pandas\n",
    "5. Matplotlib\n",
    "6. Keras\n",
    "7. Scikit-Learn\n",
    "8. PyTorch, etc..;"
   ]
  },
  {
   "cell_type": "markdown",
   "id": "7dd8edb3-d70f-43b0-98e1-fc58274c9fa9",
   "metadata": {},
   "source": [
    "|Data Science Tools|\n",
    "|---|\n",
    "|SAS|\n",
    "|Apache Hadoop|\n",
    "|Tensorflow|"
   ]
  },
  {
   "cell_type": "markdown",
   "id": "0668cb9b-9bb6-4dc1-a7e1-5e657fcb53b6",
   "metadata": {},
   "source": [
    "### Below are a few examples of evaluating arithmetic expressions in Python."
   ]
  },
  {
   "cell_type": "code",
   "execution_count": 1,
   "id": "b5f77243-0f04-43f1-ba27-ffb5c841f5d7",
   "metadata": {},
   "outputs": [
    {
     "data": {
      "text/plain": [
       "17"
      ]
     },
     "execution_count": 1,
     "metadata": {},
     "output_type": "execute_result"
    }
   ],
   "source": [
    "#this is a comon arithmetic example to multiply and then add integers\n",
    "(3*4)+5"
   ]
  },
  {
   "cell_type": "code",
   "execution_count": 2,
   "id": "e8e0efe7-3ea8-439a-89ff-41b05d95fcd8",
   "metadata": {},
   "outputs": [
    {
     "data": {
      "text/plain": [
       "3.3333333333333335"
      ]
     },
     "execution_count": 2,
     "metadata": {},
     "output_type": "execute_result"
    }
   ],
   "source": [
    "#this will convert 200 minutes into hours by dividing with 60\n",
    "200/60"
   ]
  },
  {
   "cell_type": "markdown",
   "id": "4620fcf5-1005-4626-ae82-c06d848f9d68",
   "metadata": {},
   "source": [
    "__Objective__\n",
    "* List of popular languages for Data Science \n",
    "* List of popular libraries for Data Science\n",
    "* List of well known data science tools\n",
    "* How to provide comments in the cell"
   ]
  },
  {
   "cell_type": "markdown",
   "id": "94b041aa-ab44-4c53-bfba-ba1e07200f2a",
   "metadata": {},
   "source": [
    "## Author\n",
    "Nitish Kumar Kola"
   ]
  }
 ],
 "metadata": {
  "kernelspec": {
   "display_name": "Python 3 (ipykernel)",
   "language": "python",
   "name": "python3"
  },
  "language_info": {
   "codemirror_mode": {
    "name": "ipython",
    "version": 3
   },
   "file_extension": ".py",
   "mimetype": "text/x-python",
   "name": "python",
   "nbconvert_exporter": "python",
   "pygments_lexer": "ipython3",
   "version": "3.11.7"
  }
 },
 "nbformat": 4,
 "nbformat_minor": 5
}
